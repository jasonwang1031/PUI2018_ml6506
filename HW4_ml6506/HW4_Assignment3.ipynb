{
 "cells": [
  {
   "cell_type": "markdown",
   "metadata": {},
   "source": [
    "# IDEA:\n",
    "The average travel time of alternative bus route is not significant different from origin X8 bus route.\n",
    "\n",
    "# Null Hypothesis\n",
    "The average travek time of alternative bus route is equal to the X8 bus.\n",
    "\n",
    "# Alternative Hypothesis\n",
    "The \n",
    "The average travel time of alternative bus route  is not equal to the  X8 bus route.\n",
    "\n",
    "# Significance Level\n",
    "I define the  significance level as α = 0.05\n",
    "\n",
    "# Interpretation of the Z value\n",
    "if Z < -1.96 or Z > 1.96, then reject Null Hypothesis.\n",
    "Otherwise, we can't reject Null Hypothesis.\n"
   ]
  },
  {
   "cell_type": "code",
   "execution_count": 1,
   "metadata": {},
   "outputs": [],
   "source": [
    "from __future__  import print_function\n",
    "import pandas as pd\n",
    "import numpy as np\n",
    "import os"
   ]
  },
  {
   "cell_type": "code",
   "execution_count": 10,
   "metadata": {},
   "outputs": [
    {
     "name": "stdout",
     "output_type": "stream",
     "text": [
      "--2018-10-02 21:57:19--  https://raw.githubusercontent.com/fedhere/PUI2018_fb55/master/Lab4_fb55/times.txt\r\n",
      "Resolving raw.githubusercontent.com (raw.githubusercontent.com)... 151.101.200.133\r\n",
      "Connecting to raw.githubusercontent.com (raw.githubusercontent.com)|151.101.200.133|:443... connected.\r\n",
      "HTTP request sent, awaiting response... 200 OK\r\n",
      "Length: 1179 (1.2K) [text/plain]\r\n",
      "Saving to: ‘times.txt.3’\r\n",
      "\r\n",
      "\r",
      "times.txt.3           0%[                    ]       0  --.-KB/s               \r",
      "times.txt.3         100%[===================>]   1.15K  --.-KB/s    in 0s      \r\n",
      "\r\n",
      "2018-10-02 21:57:19 (237 MB/s) - ‘times.txt.3’ saved [1179/1179]\r\n",
      "\r\n"
     ]
    }
   ],
   "source": [
    "!wget https://raw.githubusercontent.com/fedhere/PUI2018_fb55/master/Lab4_fb55/times.txt"
   ]
  },
  {
   "cell_type": "code",
   "execution_count": 12,
   "metadata": {},
   "outputs": [
    {
     "data": {
      "text/html": [
       "<div>\n",
       "<table border=\"1\" class=\"dataframe\">\n",
       "  <thead>\n",
       "    <tr style=\"text-align: right;\">\n",
       "      <th></th>\n",
       "      <th>0</th>\n",
       "    </tr>\n",
       "  </thead>\n",
       "  <tbody>\n",
       "    <tr>\n",
       "      <th>0</th>\n",
       "      <td>31.622239</td>\n",
       "    </tr>\n",
       "    <tr>\n",
       "      <th>1</th>\n",
       "      <td>32.821376</td>\n",
       "    </tr>\n",
       "    <tr>\n",
       "      <th>2</th>\n",
       "      <td>30.229101</td>\n",
       "    </tr>\n",
       "    <tr>\n",
       "      <th>3</th>\n",
       "      <td>31.413766</td>\n",
       "    </tr>\n",
       "    <tr>\n",
       "      <th>4</th>\n",
       "      <td>39.010550</td>\n",
       "    </tr>\n",
       "  </tbody>\n",
       "</table>\n",
       "</div>"
      ],
      "text/plain": [
       "           0\n",
       "0  31.622239\n",
       "1  32.821376\n",
       "2  30.229101\n",
       "3  31.413766\n",
       "4  39.010550"
      ]
     },
     "execution_count": 12,
     "metadata": {},
     "output_type": "execute_result"
    }
   ],
   "source": [
    "data = pd.read_table('times.txt.3', header = None)\n",
    "data.head()"
   ]
  },
  {
   "cell_type": "code",
   "execution_count": 13,
   "metadata": {},
   "outputs": [
    {
     "name": "stdout",
     "output_type": "stream",
     "text": [
      "-2.14905157561\n",
      "reject the Null Hypothesis\n"
     ]
    }
   ],
   "source": [
    "u_0 = 36\n",
    "time_av = float(data.mean())\n",
    "x = len(data)\n",
    "sigma = float(data.std())\n",
    "z = (time_av - u_0)/(sigma/(np.sqrt(x)))\n",
    "print(z)\n",
    "if abs(z) > 1.96:\n",
    "    print('reject the Null Hypothesis')\n",
    "else:\n",
    "    print('can not reject the Null Hypothesis')"
   ]
  },
  {
   "cell_type": "markdown",
   "metadata": {},
   "source": [
    "The Z value is -2.14905157561 which is smaller than -1.96. In this case, we need to reject the Null Hypothesis."
   ]
  }
 ],
 "metadata": {
  "kernelspec": {
   "display_name": "PUI2016_Python3",
   "language": "python",
   "name": "pui2016_python3"
  },
  "language_info": {
   "codemirror_mode": {
    "name": "ipython",
    "version": 3
   },
   "file_extension": ".py",
   "mimetype": "text/x-python",
   "name": "python",
   "nbconvert_exporter": "python",
   "pygments_lexer": "ipython3",
   "version": "3.5.4"
  }
 },
 "nbformat": 4,
 "nbformat_minor": 2
}
