{
 "cells": [
  {
   "cell_type": "code",
   "execution_count": 45,
   "metadata": {},
   "outputs": [],
   "source": [
    "from __future__ import print_function #for compatibility beteen python2 and python3"
   ]
  },
  {
   "cell_type": "markdown",
   "metadata": {},
   "source": [
    "# Find data on the portal\n",
    "using DHS data on shelter population obtained with the following steps from the website\n",
    "\n",
    "using DHS data on shelter population obtained with the following steps from the website\n",
    "\n",
    "https://opendata.cityofnewyork.us/ -> Data\n",
    "\n",
    "https://opendata.cityofnewyork.us/data/ -> Department of Transportation (DOT) \n",
    "\n",
    "https://data.cityofnewyork.us/Transportation/Street-Pavement-Rating/2cav-chmn/ -> Street Pavement Rating\n",
    "\n",
    "https://data.cityofnewyork.us/api/views/77fd-dby5/rows.csv?accessType=DOWNLOAD/ -> The CSV file link"
   ]
  },
  {
   "cell_type": "markdown",
   "metadata": {},
   "source": [
    "# Solution 1: Download from the portal"
   ]
  },
  {
   "cell_type": "code",
   "execution_count": 47,
   "metadata": {},
   "outputs": [
    {
     "name": "stdout",
     "output_type": "stream",
     "text": [
      "  % Total    % Received % Xferd  Average Speed   Time    Time     Time  Current\n",
      "                                 Dload  Upload   Total   Spent    Left  Speed\n",
      "100 14.3M    0 14.3M    0     0  2808k      0 --:--:--  0:00:05 --:--:-- 2990k\n"
     ]
    }
   ],
   "source": [
    "!curl https://data.cityofnewyork.us/api/views/77fd-dby5/rows.csv?accessType=DOWNLOAD > dshstreet.csv"
   ]
  },
  {
   "cell_type": "code",
   "execution_count": 48,
   "metadata": {},
   "outputs": [
    {
     "name": "stdout",
     "output_type": "stream",
     "text": [
      "PUIdata /nfshome/ml6506/PUIdata\n"
     ]
    }
   ],
   "source": [
    "# ove the downloaded data to PUI data\n",
    "import os\n",
    "print(\"PUIdata\", os.getenv(\"PUIDATA\"))"
   ]
  },
  {
   "cell_type": "code",
   "execution_count": 49,
   "metadata": {},
   "outputs": [
    {
     "name": "stdout",
     "output_type": "stream",
     "text": [
      "PUIdata /nfshome/ml6506/PUIdata\n"
     ]
    }
   ],
   "source": [
    "#create the env variable if missing\n",
    "os.environ[\"PUIDATA\"] = \"%s/PUIdata\"%os.getenv(\"HOME\")\n",
    "\n",
    "print(\"PUIdata\", os.getenv(\"PUIDATA\"))"
   ]
  },
  {
   "cell_type": "code",
   "execution_count": 50,
   "metadata": {},
   "outputs": [],
   "source": [
    "!ls $PUIDATA"
   ]
  },
  {
   "cell_type": "code",
   "execution_count": 51,
   "metadata": {},
   "outputs": [],
   "source": [
    "# move the data\n",
    "!mv dshstreet.csv $PUIDATA"
   ]
  },
  {
   "cell_type": "code",
   "execution_count": 52,
   "metadata": {},
   "outputs": [
    {
     "name": "stdout",
     "output_type": "stream",
     "text": [
      "dshstreet.csv\r\n"
     ]
    }
   ],
   "source": [
    "#test if the data is there\n",
    "!ls $PUIDATA"
   ]
  },
  {
   "cell_type": "markdown",
   "metadata": {},
   "source": [
    "# Read the data with Pandas"
   ]
  },
  {
   "cell_type": "code",
   "execution_count": 53,
   "metadata": {},
   "outputs": [],
   "source": [
    "#read in the data with pandas\n",
    "import pandas as pd\n",
    "dhs = pd.read_csv(\"%s/dshstreet.csv\"%os.getenv(\"PUIDATA\"))"
   ]
  },
  {
   "cell_type": "code",
   "execution_count": 54,
   "metadata": {},
   "outputs": [
    {
     "data": {
      "text/html": [
       "<div>\n",
       "<table border=\"1\" class=\"dataframe\">\n",
       "  <thead>\n",
       "    <tr style=\"text-align: right;\">\n",
       "      <th></th>\n",
       "      <th>the_geom</th>\n",
       "      <th>Length</th>\n",
       "      <th>SegmentID</th>\n",
       "      <th>Width</th>\n",
       "      <th>UsageClass</th>\n",
       "      <th>Hagstrom</th>\n",
       "      <th>Bus</th>\n",
       "      <th>Truck</th>\n",
       "      <th>Rating_B</th>\n",
       "      <th>RatingWord</th>\n",
       "      <th>RatingDate</th>\n",
       "      <th>RatingFY_S</th>\n",
       "      <th>Shape_Leng</th>\n",
       "    </tr>\n",
       "  </thead>\n",
       "  <tbody>\n",
       "    <tr>\n",
       "      <th>0</th>\n",
       "      <td>MULTILINESTRING ((-74.25272401241558 40.502518...</td>\n",
       "      <td>933</td>\n",
       "      <td>13</td>\n",
       "      <td>30.00</td>\n",
       "      <td>NaN</td>\n",
       "      <td>0</td>\n",
       "      <td>0</td>\n",
       "      <td>0</td>\n",
       "      <td>0</td>\n",
       "      <td>NR</td>\n",
       "      <td>11/30/1899 12:00:00 AM +0000</td>\n",
       "      <td>0</td>\n",
       "      <td>932.401737</td>\n",
       "    </tr>\n",
       "    <tr>\n",
       "      <th>1</th>\n",
       "      <td>MULTILINESTRING ((-74.25299942180904 40.506881...</td>\n",
       "      <td>205</td>\n",
       "      <td>31</td>\n",
       "      <td>35.67</td>\n",
       "      <td>L</td>\n",
       "      <td>0</td>\n",
       "      <td>0</td>\n",
       "      <td>0</td>\n",
       "      <td>8</td>\n",
       "      <td>GOOD</td>\n",
       "      <td>01/31/2018 12:00:00 AM +0000</td>\n",
       "      <td>2018</td>\n",
       "      <td>426.919196</td>\n",
       "    </tr>\n",
       "    <tr>\n",
       "      <th>2</th>\n",
       "      <td>MULTILINESTRING ((-74.25287637435896 40.507625...</td>\n",
       "      <td>295</td>\n",
       "      <td>32</td>\n",
       "      <td>30.92</td>\n",
       "      <td>P</td>\n",
       "      <td>1</td>\n",
       "      <td>0</td>\n",
       "      <td>1</td>\n",
       "      <td>9</td>\n",
       "      <td>GOOD</td>\n",
       "      <td>09/25/2017 12:00:00 AM +0000</td>\n",
       "      <td>2018</td>\n",
       "      <td>291.756748</td>\n",
       "    </tr>\n",
       "    <tr>\n",
       "      <th>3</th>\n",
       "      <td>MULTILINESTRING ((-74.25287637435896 40.507625...</td>\n",
       "      <td>229</td>\n",
       "      <td>33</td>\n",
       "      <td>33.58</td>\n",
       "      <td>L</td>\n",
       "      <td>0</td>\n",
       "      <td>0</td>\n",
       "      <td>0</td>\n",
       "      <td>8</td>\n",
       "      <td>GOOD</td>\n",
       "      <td>09/27/2017 12:00:00 AM +0000</td>\n",
       "      <td>2018</td>\n",
       "      <td>273.250801</td>\n",
       "    </tr>\n",
       "    <tr>\n",
       "      <th>4</th>\n",
       "      <td>MULTILINESTRING ((-74.251380926093 40.50011392...</td>\n",
       "      <td>221</td>\n",
       "      <td>48</td>\n",
       "      <td>30.00</td>\n",
       "      <td>NaN</td>\n",
       "      <td>0</td>\n",
       "      <td>0</td>\n",
       "      <td>0</td>\n",
       "      <td>0</td>\n",
       "      <td>NR</td>\n",
       "      <td>11/30/1899 12:00:00 AM +0000</td>\n",
       "      <td>0</td>\n",
       "      <td>428.590714</td>\n",
       "    </tr>\n",
       "    <tr>\n",
       "      <th>5</th>\n",
       "      <td>MULTILINESTRING ((-74.25070987612833 40.500472...</td>\n",
       "      <td>252</td>\n",
       "      <td>49</td>\n",
       "      <td>30.00</td>\n",
       "      <td>NaN</td>\n",
       "      <td>0</td>\n",
       "      <td>0</td>\n",
       "      <td>0</td>\n",
       "      <td>0</td>\n",
       "      <td>NR</td>\n",
       "      <td>11/30/1899 12:00:00 AM +0000</td>\n",
       "      <td>0</td>\n",
       "      <td>254.031494</td>\n",
       "    </tr>\n",
       "    <tr>\n",
       "      <th>6</th>\n",
       "      <td>MULTILINESTRING ((-74.24977526691939 40.500545...</td>\n",
       "      <td>451</td>\n",
       "      <td>50</td>\n",
       "      <td>30.00</td>\n",
       "      <td>NaN</td>\n",
       "      <td>0</td>\n",
       "      <td>0</td>\n",
       "      <td>0</td>\n",
       "      <td>0</td>\n",
       "      <td>NR</td>\n",
       "      <td>11/30/1899 12:00:00 AM +0000</td>\n",
       "      <td>0</td>\n",
       "      <td>473.439542</td>\n",
       "    </tr>\n",
       "  </tbody>\n",
       "</table>\n",
       "</div>"
      ],
      "text/plain": [
       "                                            the_geom  Length  SegmentID  \\\n",
       "0  MULTILINESTRING ((-74.25272401241558 40.502518...     933         13   \n",
       "1  MULTILINESTRING ((-74.25299942180904 40.506881...     205         31   \n",
       "2  MULTILINESTRING ((-74.25287637435896 40.507625...     295         32   \n",
       "3  MULTILINESTRING ((-74.25287637435896 40.507625...     229         33   \n",
       "4  MULTILINESTRING ((-74.251380926093 40.50011392...     221         48   \n",
       "5  MULTILINESTRING ((-74.25070987612833 40.500472...     252         49   \n",
       "6  MULTILINESTRING ((-74.24977526691939 40.500545...     451         50   \n",
       "\n",
       "   Width UsageClass  Hagstrom  Bus  Truck  Rating_B RatingWord  \\\n",
       "0  30.00        NaN         0    0      0         0         NR   \n",
       "1  35.67          L         0    0      0         8       GOOD   \n",
       "2  30.92          P         1    0      1         9       GOOD   \n",
       "3  33.58          L         0    0      0         8       GOOD   \n",
       "4  30.00        NaN         0    0      0         0         NR   \n",
       "5  30.00        NaN         0    0      0         0         NR   \n",
       "6  30.00        NaN         0    0      0         0         NR   \n",
       "\n",
       "                     RatingDate  RatingFY_S  Shape_Leng  \n",
       "0  11/30/1899 12:00:00 AM +0000           0  932.401737  \n",
       "1  01/31/2018 12:00:00 AM +0000        2018  426.919196  \n",
       "2  09/25/2017 12:00:00 AM +0000        2018  291.756748  \n",
       "3  09/27/2017 12:00:00 AM +0000        2018  273.250801  \n",
       "4  11/30/1899 12:00:00 AM +0000           0  428.590714  \n",
       "5  11/30/1899 12:00:00 AM +0000           0  254.031494  \n",
       "6  11/30/1899 12:00:00 AM +0000           0  473.439542  "
      ]
     },
     "execution_count": 54,
     "metadata": {},
     "output_type": "execute_result"
    }
   ],
   "source": [
    "#print the fist 7 lines out\n",
    "dhs.head(7)"
   ]
  },
  {
   "cell_type": "code",
   "execution_count": 55,
   "metadata": {},
   "outputs": [
    {
     "data": {
      "text/plain": [
       "Index(['the_geom', 'Length', 'SegmentID', 'Width', 'UsageClass', 'Hagstrom',\n",
       "       'Bus', 'Truck', 'Rating_B', 'RatingWord', 'RatingDate', 'RatingFY_S',\n",
       "       'Shape_Leng'],\n",
       "      dtype='object')"
      ]
     },
     "execution_count": 55,
     "metadata": {},
     "output_type": "execute_result"
    }
   ],
   "source": [
    "#look at the columns available, those are the variables\n",
    "dhs.columns"
   ]
  },
  {
   "cell_type": "code",
   "execution_count": 56,
   "metadata": {},
   "outputs": [
    {
     "data": {
      "text/plain": [
       "1055717"
      ]
     },
     "execution_count": 56,
     "metadata": {},
     "output_type": "execute_result"
    }
   ],
   "source": [
    "#count how many rows, those are the data points\n",
    "dhs.size"
   ]
  },
  {
   "cell_type": "code",
   "execution_count": 57,
   "metadata": {},
   "outputs": [],
   "source": [
    "#select 2 columns only for plotting\n",
    "dhs_2c = dhs[['Length', 'Rating_B']]"
   ]
  },
  {
   "cell_type": "code",
   "execution_count": 58,
   "metadata": {},
   "outputs": [
    {
     "data": {
      "text/html": [
       "<div>\n",
       "<table border=\"1\" class=\"dataframe\">\n",
       "  <thead>\n",
       "    <tr style=\"text-align: right;\">\n",
       "      <th></th>\n",
       "      <th>Length</th>\n",
       "      <th>Rating_B</th>\n",
       "    </tr>\n",
       "  </thead>\n",
       "  <tbody>\n",
       "    <tr>\n",
       "      <th>0</th>\n",
       "      <td>933</td>\n",
       "      <td>0</td>\n",
       "    </tr>\n",
       "    <tr>\n",
       "      <th>1</th>\n",
       "      <td>205</td>\n",
       "      <td>8</td>\n",
       "    </tr>\n",
       "    <tr>\n",
       "      <th>2</th>\n",
       "      <td>295</td>\n",
       "      <td>9</td>\n",
       "    </tr>\n",
       "    <tr>\n",
       "      <th>3</th>\n",
       "      <td>229</td>\n",
       "      <td>8</td>\n",
       "    </tr>\n",
       "    <tr>\n",
       "      <th>4</th>\n",
       "      <td>221</td>\n",
       "      <td>0</td>\n",
       "    </tr>\n",
       "  </tbody>\n",
       "</table>\n",
       "</div>"
      ],
      "text/plain": [
       "   Length  Rating_B\n",
       "0     933         0\n",
       "1     205         8\n",
       "2     295         9\n",
       "3     229         8\n",
       "4     221         0"
      ]
     },
     "execution_count": 58,
     "metadata": {},
     "output_type": "execute_result"
    }
   ],
   "source": [
    "dhs_2c.head()"
   ]
  },
  {
   "cell_type": "code",
   "execution_count": 60,
   "metadata": {},
   "outputs": [
    {
     "data": {
      "text/plain": [
       "<matplotlib.axes._subplots.AxesSubplot at 0x7f7801b8f668>"
      ]
     },
     "execution_count": 60,
     "metadata": {},
     "output_type": "execute_result"
    }
   ],
   "source": [
    "dhs_2c.plot(x=\"Length\", y=\"Rating_B\")"
   ]
  },
  {
   "cell_type": "code",
   "execution_count": 61,
   "metadata": {},
   "outputs": [],
   "source": [
    "# wont show anything if i do not use the magic command to show plots in the notebook \n",
    "#(or use pl.show to pop up a window, but for the homework plots have to be embedded)"
   ]
  },
  {
   "cell_type": "code",
   "execution_count": 62,
   "metadata": {},
   "outputs": [
    {
     "name": "stdout",
     "output_type": "stream",
     "text": [
      "Populating the interactive namespace from numpy and matplotlib\n"
     ]
    }
   ],
   "source": [
    "%pylab inline"
   ]
  },
  {
   "cell_type": "code",
   "execution_count": 65,
   "metadata": {},
   "outputs": [
    {
     "data": {
      "image/png": "[encoded data removed]",
      "text/plain": [
       "<matplotlib.figure.Figure at 0x7f7801452dd8>"
      ]
     },
     "metadata": {},
     "output_type": "display_data"
    }
   ],
   "source": [
    "dhs_2c.plot(x=\"Length\", y=\"Rating_B\", kind='scatter');"
   ]
  },
  {
   "cell_type": "markdown",
   "metadata": {},
   "source": [
    "# solution 2: Use API and download a json file"
   ]
  },
  {
   "cell_type": "code",
   "execution_count": 70,
   "metadata": {},
   "outputs": [],
   "source": [
    "url=\"https://data.cityofnewyork.us/resource/77fd-dby5.json\""
   ]
  },
  {
   "cell_type": "code",
   "execution_count": 71,
   "metadata": {},
   "outputs": [],
   "source": [
    "#use the appropriatepandas function to read in the json file\n",
    "df = pd.read_json(url)"
   ]
  },
  {
   "cell_type": "code",
   "execution_count": 73,
   "metadata": {},
   "outputs": [
    {
     "data": {
      "text/html": [
       "<div>\n",
       "<table border=\"1\" class=\"dataframe\">\n",
       "  <thead>\n",
       "    <tr style=\"text-align: right;\">\n",
       "      <th></th>\n",
       "      <th>bus</th>\n",
       "      <th>hagstrom</th>\n",
       "      <th>length</th>\n",
       "      <th>rating_b</th>\n",
       "      <th>rating_date</th>\n",
       "      <th>rating_fy_s</th>\n",
       "      <th>rating_word</th>\n",
       "      <th>segment_id</th>\n",
       "      <th>shape_leng</th>\n",
       "      <th>the_geom</th>\n",
       "      <th>truck</th>\n",
       "      <th>usage_class</th>\n",
       "      <th>width</th>\n",
       "    </tr>\n",
       "  </thead>\n",
       "  <tbody>\n",
       "    <tr>\n",
       "      <th>0</th>\n",
       "      <td>0</td>\n",
       "      <td>0</td>\n",
       "      <td>933</td>\n",
       "      <td>0</td>\n",
       "      <td>1899-11-30T00:00:00.000Z</td>\n",
       "      <td>0</td>\n",
       "      <td>NR</td>\n",
       "      <td>13</td>\n",
       "      <td>932.401737</td>\n",
       "      <td>{'type': 'MultiLineString', 'coordinates': [[[...</td>\n",
       "      <td>0</td>\n",
       "      <td>NaN</td>\n",
       "      <td>30.00</td>\n",
       "    </tr>\n",
       "    <tr>\n",
       "      <th>1</th>\n",
       "      <td>0</td>\n",
       "      <td>0</td>\n",
       "      <td>205</td>\n",
       "      <td>8</td>\n",
       "      <td>2018-01-31T00:00:00.000Z</td>\n",
       "      <td>2018</td>\n",
       "      <td>GOOD</td>\n",
       "      <td>31</td>\n",
       "      <td>426.919196</td>\n",
       "      <td>{'type': 'MultiLineString', 'coordinates': [[[...</td>\n",
       "      <td>0</td>\n",
       "      <td>L</td>\n",
       "      <td>35.67</td>\n",
       "    </tr>\n",
       "    <tr>\n",
       "      <th>2</th>\n",
       "      <td>0</td>\n",
       "      <td>1</td>\n",
       "      <td>295</td>\n",
       "      <td>9</td>\n",
       "      <td>2017-09-25T00:00:00.000Z</td>\n",
       "      <td>2018</td>\n",
       "      <td>GOOD</td>\n",
       "      <td>32</td>\n",
       "      <td>291.756748</td>\n",
       "      <td>{'type': 'MultiLineString', 'coordinates': [[[...</td>\n",
       "      <td>1</td>\n",
       "      <td>P</td>\n",
       "      <td>30.92</td>\n",
       "    </tr>\n",
       "    <tr>\n",
       "      <th>3</th>\n",
       "      <td>0</td>\n",
       "      <td>0</td>\n",
       "      <td>229</td>\n",
       "      <td>8</td>\n",
       "      <td>2017-09-27T00:00:00.000Z</td>\n",
       "      <td>2018</td>\n",
       "      <td>GOOD</td>\n",
       "      <td>33</td>\n",
       "      <td>273.250801</td>\n",
       "      <td>{'type': 'MultiLineString', 'coordinates': [[[...</td>\n",
       "      <td>0</td>\n",
       "      <td>L</td>\n",
       "      <td>33.58</td>\n",
       "    </tr>\n",
       "    <tr>\n",
       "      <th>4</th>\n",
       "      <td>0</td>\n",
       "      <td>0</td>\n",
       "      <td>221</td>\n",
       "      <td>0</td>\n",
       "      <td>1899-11-30T00:00:00.000Z</td>\n",
       "      <td>0</td>\n",
       "      <td>NR</td>\n",
       "      <td>48</td>\n",
       "      <td>428.590714</td>\n",
       "      <td>{'type': 'MultiLineString', 'coordinates': [[[...</td>\n",
       "      <td>0</td>\n",
       "      <td>NaN</td>\n",
       "      <td>30.00</td>\n",
       "    </tr>\n",
       "    <tr>\n",
       "      <th>5</th>\n",
       "      <td>0</td>\n",
       "      <td>0</td>\n",
       "      <td>252</td>\n",
       "      <td>0</td>\n",
       "      <td>1899-11-30T00:00:00.000Z</td>\n",
       "      <td>0</td>\n",
       "      <td>NR</td>\n",
       "      <td>49</td>\n",
       "      <td>254.031494</td>\n",
       "      <td>{'type': 'MultiLineString', 'coordinates': [[[...</td>\n",
       "      <td>0</td>\n",
       "      <td>NaN</td>\n",
       "      <td>30.00</td>\n",
       "    </tr>\n",
       "    <tr>\n",
       "      <th>6</th>\n",
       "      <td>0</td>\n",
       "      <td>0</td>\n",
       "      <td>451</td>\n",
       "      <td>0</td>\n",
       "      <td>1899-11-30T00:00:00.000Z</td>\n",
       "      <td>0</td>\n",
       "      <td>NR</td>\n",
       "      <td>50</td>\n",
       "      <td>473.439542</td>\n",
       "      <td>{'type': 'MultiLineString', 'coordinates': [[[...</td>\n",
       "      <td>0</td>\n",
       "      <td>NaN</td>\n",
       "      <td>30.00</td>\n",
       "    </tr>\n",
       "    <tr>\n",
       "      <th>7</th>\n",
       "      <td>1</td>\n",
       "      <td>1</td>\n",
       "      <td>254</td>\n",
       "      <td>8</td>\n",
       "      <td>2018-01-31T00:00:00.000Z</td>\n",
       "      <td>2018</td>\n",
       "      <td>GOOD</td>\n",
       "      <td>163</td>\n",
       "      <td>263.910970</td>\n",
       "      <td>{'type': 'MultiLineString', 'coordinates': [[[...</td>\n",
       "      <td>1</td>\n",
       "      <td>P</td>\n",
       "      <td>61.83</td>\n",
       "    </tr>\n",
       "  </tbody>\n",
       "</table>\n",
       "</div>"
      ],
      "text/plain": [
       "   bus  hagstrom  length  rating_b               rating_date  rating_fy_s  \\\n",
       "0    0         0     933         0  1899-11-30T00:00:00.000Z            0   \n",
       "1    0         0     205         8  2018-01-31T00:00:00.000Z         2018   \n",
       "2    0         1     295         9  2017-09-25T00:00:00.000Z         2018   \n",
       "3    0         0     229         8  2017-09-27T00:00:00.000Z         2018   \n",
       "4    0         0     221         0  1899-11-30T00:00:00.000Z            0   \n",
       "5    0         0     252         0  1899-11-30T00:00:00.000Z            0   \n",
       "6    0         0     451         0  1899-11-30T00:00:00.000Z            0   \n",
       "7    1         1     254         8  2018-01-31T00:00:00.000Z         2018   \n",
       "\n",
       "  rating_word  segment_id  shape_leng  \\\n",
       "0          NR          13  932.401737   \n",
       "1        GOOD          31  426.919196   \n",
       "2        GOOD          32  291.756748   \n",
       "3        GOOD          33  273.250801   \n",
       "4          NR          48  428.590714   \n",
       "5          NR          49  254.031494   \n",
       "6          NR          50  473.439542   \n",
       "7        GOOD         163  263.910970   \n",
       "\n",
       "                                            the_geom  truck usage_class  width  \n",
       "0  {'type': 'MultiLineString', 'coordinates': [[[...      0         NaN  30.00  \n",
       "1  {'type': 'MultiLineString', 'coordinates': [[[...      0           L  35.67  \n",
       "2  {'type': 'MultiLineString', 'coordinates': [[[...      1           P  30.92  \n",
       "3  {'type': 'MultiLineString', 'coordinates': [[[...      0           L  33.58  \n",
       "4  {'type': 'MultiLineString', 'coordinates': [[[...      0         NaN  30.00  \n",
       "5  {'type': 'MultiLineString', 'coordinates': [[[...      0         NaN  30.00  \n",
       "6  {'type': 'MultiLineString', 'coordinates': [[[...      0         NaN  30.00  \n",
       "7  {'type': 'MultiLineString', 'coordinates': [[[...      1           P  61.83  "
      ]
     },
     "execution_count": 73,
     "metadata": {},
     "output_type": "execute_result"
    }
   ],
   "source": [
    "# print it out\n",
    "df.head(8)"
   ]
  },
  {
   "cell_type": "code",
   "execution_count": 75,
   "metadata": {},
   "outputs": [],
   "source": [
    "#now select a date and 2 variables\n",
    "dhs_3c = df[['rating_date', 'length', 'rating_b']]"
   ]
  },
  {
   "cell_type": "code",
   "execution_count": 76,
   "metadata": {},
   "outputs": [
    {
     "name": "stderr",
     "output_type": "stream",
     "text": [
      "/usr/local/Anaconda3-5.0.0-Linux-x86_64/envs/PUI2016_Python3/lib/python3.5/site-packages/pandas/core/frame.py:2754: SettingWithCopyWarning: \n",
      "A value is trying to be set on a copy of a slice from a DataFrame\n",
      "\n",
      "See the caveats in the documentation: http://pandas.pydata.org/pandas-docs/stable/indexing.html#indexing-view-versus-copy\n",
      "  **kwargs)\n"
     ]
    }
   ],
   "source": [
    "dhs_3c.rename(columns = {'rating_date':'Date of Rating', \n",
    "               'length':'Length', \n",
    "               'rating_b': 'Rating Score'}, inplace=True)"
   ]
  },
  {
   "cell_type": "code",
   "execution_count": 79,
   "metadata": {},
   "outputs": [
    {
     "data": {
      "image/png": "[encoded data removed]",
      "text/plain": [
       "<matplotlib.figure.Figure at 0x7f780179a048>"
      ]
     },
     "metadata": {},
     "output_type": "display_data"
    }
   ],
   "source": [
    "#as a default this plot wont have a y label, but all plots must have axis labels!\n",
    "ax = dhs_3c.plot(x='Date of Rating', y='Length');\n",
    "ax.set_ylabel(\"Street Length\");"
   ]
  },
  {
   "cell_type": "code",
   "execution_count": 80,
   "metadata": {},
   "outputs": [
    {
     "name": "stderr",
     "output_type": "stream",
     "text": [
      "/usr/local/Anaconda3-5.0.0-Linux-x86_64/envs/PUI2016_Python3/lib/python3.5/site-packages/ipykernel/__main__.py:1: SettingWithCopyWarning: \n",
      "A value is trying to be set on a copy of a slice from a DataFrame.\n",
      "Try using .loc[row_indexer,col_indexer] = value instead\n",
      "\n",
      "See the caveats in the documentation: http://pandas.pydata.org/pandas-docs/stable/indexing.html#indexing-view-versus-copy\n",
      "  if __name__ == '__main__':\n"
     ]
    }
   ],
   "source": [
    "dhs_3c[\"Date of Rating\"] = dhs_3c[\"Date of Rating\"].apply(lambda x: pd.Timestamp(x))"
   ]
  },
  {
   "cell_type": "code",
   "execution_count": 82,
   "metadata": {},
   "outputs": [
    {
     "data": {
      "image/png": "[encoded data removed]",
      "text/plain": [
       "<matplotlib.figure.Figure at 0x7f78017b6860>"
      ]
     },
     "metadata": {},
     "output_type": "display_data"
    }
   ],
   "source": [
    "ax = dhs_3c.plot(x='Date of Rating', y='Length')\n",
    "ax.set_ylabel(\"Street Length\");"
   ]
  },
  {
   "cell_type": "code",
   "execution_count": 85,
   "metadata": {},
   "outputs": [
    {
     "data": {
      "image/png": "[encoded data removed]",
      "text/plain": [
       "<matplotlib.figure.Figure at 0x7f77ea7edba8>"
      ]
     },
     "metadata": {},
     "output_type": "display_data"
    }
   ],
   "source": [
    "#plot the other columns\n",
    "ax = dhs_3c.plot(x='Date of Rating', y='Rating Score')\n",
    "ax.set_ylabel(\"Number\");"
   ]
  },
  {
   "cell_type": "code",
   "execution_count": null,
   "metadata": {},
   "outputs": [],
   "source": []
  }
 ],
 "metadata": {
  "kernelspec": {
   "display_name": "PUI2016_Python3",
   "language": "python",
   "name": "pui2016_python3"
  },
  "language_info": {
   "codemirror_mode": {
    "name": "ipython",
    "version": 3
   },
   "file_extension": ".py",
   "mimetype": "text/x-python",
   "name": "python",
   "nbconvert_exporter": "python",
   "pygments_lexer": "ipython3",
   "version": "3.5.4"
  }
 },
 "nbformat": 4,
 "nbformat_minor": 2
}
